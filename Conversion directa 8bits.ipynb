{
 "cells": [
  {
   "cell_type": "code",
   "execution_count": 1,
   "id": "cfba0323",
   "metadata": {},
   "outputs": [],
   "source": [
    "import cv2\n",
    "from matplotlib import pyplot as plt\n",
    "import numpy as np\n",
    "import os\n",
    "import io\n",
    "from PIL import Image\n",
    "from skimage import img_as_ubyte"
   ]
  },
  {
   "cell_type": "code",
   "execution_count": null,
   "id": "baf3489a",
   "metadata": {},
   "outputs": [],
   "source": [
    "def conv8bit_defecto(ruta):\n",
    "    lista = os.listdir(ruta)\n",
    "    for e in lista:\n",
    "        img = cv2.imread(ruta+'/'+e, cv2.IMREAD_UNCHANGED)\n",
    "        img_8bit=cv2.normalize(img, None, 0, 255, cv2.NORM_MINMAX, dtype=cv2.CV_8U)\n",
    "        cv2.imwrite('IMGS PRUEBA BATAVIA PROC/DEFECTO/'+e[:-4]+'_8bit.png',img_8bit)"
   ]
  },
  {
   "cell_type": "code",
   "execution_count": null,
   "id": "aa1520bf",
   "metadata": {},
   "outputs": [],
   "source": [
    "ruta_defecto = 'IMGS PRUEBA BATAVIA/DEFECTO'\n",
    "conv8bit_defecto(ruta_defecto)"
   ]
  },
  {
   "cell_type": "code",
   "execution_count": null,
   "id": "83af32c2",
   "metadata": {},
   "outputs": [],
   "source": [
    "def conv8bit_no_defecto(ruta):\n",
    "    lista = os.listdir(ruta)\n",
    "    for e in lista:\n",
    "        img = cv2.imread(ruta+'/'+e, cv2.IMREAD_UNCHANGED)\n",
    "        img_8bit=cv2.normalize(img, None, 0, 255, cv2.NORM_MINMAX, dtype=cv2.CV_8U)\n",
    "        cv2.imwrite('IMGS PRUEBA BATAVIA PROC/NO DEFECTO/'+e[:-4]+'_8bit.png',img_8bit)"
   ]
  },
  {
   "cell_type": "code",
   "execution_count": null,
   "id": "b39a5b19",
   "metadata": {},
   "outputs": [],
   "source": [
    "ruta_no_defecto = 'IMGS PRUEBA BATAVIA/NO DEFECTO'\n",
    "conv8bit_no_defecto(ruta_no_defecto)"
   ]
  },
  {
   "cell_type": "code",
   "execution_count": 2,
   "id": "b84136aa",
   "metadata": {},
   "outputs": [],
   "source": [
    "def conv8bit_20221117(ruta):\n",
    "    lista = os.listdir(ruta)\n",
    "    for e in lista:\n",
    "        img = cv2.imread(ruta+'/'+e, cv2.IMREAD_UNCHANGED)\n",
    "        img_8bit=cv2.normalize(img, None, 0, 255, cv2.NORM_MINMAX, dtype=cv2.CV_8U)\n",
    "        cv2.imwrite('20221117 BATAVIA 8 bits/4/4 8 bits/'+e[:-4]+'_8bit.png',img_8bit)"
   ]
  },
  {
   "cell_type": "code",
   "execution_count": 3,
   "id": "b5fdf9bd",
   "metadata": {},
   "outputs": [],
   "source": [
    "ruta_20221117_4 = '20221117 BATAVIA 8 bits/4/4'\n",
    "conv8bit_20221117(ruta_20221117_4)"
   ]
  },
  {
   "cell_type": "code",
   "execution_count": 4,
   "id": "8aba7699",
   "metadata": {},
   "outputs": [],
   "source": [
    "def conv8bit_20221124(ruta):\n",
    "    lista = os.listdir(ruta)\n",
    "    for e in lista:\n",
    "        img = cv2.imread(ruta+'/'+e, cv2.IMREAD_UNCHANGED)\n",
    "        img_8bit=cv2.normalize(img, None, 0, 255, cv2.NORM_MINMAX, dtype=cv2.CV_8U)\n",
    "        cv2.imwrite('20221124 SARGA 8 bits/'+ruta[-2:]+'/'+e[:-4]+'_8bit.png',img_8bit)"
   ]
  },
  {
   "cell_type": "code",
   "execution_count": 3,
   "id": "9263c443",
   "metadata": {},
   "outputs": [],
   "source": [
    "ruta_20221117_3 = '20221117/3'\n",
    "conv8bit_20221117(ruta_20221117_3)"
   ]
  },
  {
   "cell_type": "code",
   "execution_count": 4,
   "id": "b680aa4b",
   "metadata": {},
   "outputs": [],
   "source": [
    "ruta_20221117_4 = '20221117/4'\n",
    "conv8bit_20221117(ruta_20221117_4)"
   ]
  },
  {
   "cell_type": "code",
   "execution_count": 5,
   "id": "213611b1",
   "metadata": {},
   "outputs": [],
   "source": [
    "ruta_20221117_5 = '20221117/5'\n",
    "conv8bit_20221117(ruta_20221117_5)"
   ]
  },
  {
   "cell_type": "code",
   "execution_count": 6,
   "id": "5e47802c",
   "metadata": {},
   "outputs": [],
   "source": [
    "ruta_20221117_6 = '20221117/6'\n",
    "conv8bit_20221117(ruta_20221117_6)"
   ]
  },
  {
   "cell_type": "code",
   "execution_count": 7,
   "id": "27a1746d",
   "metadata": {},
   "outputs": [],
   "source": [
    "ruta_20221117_7 = '20221117/7'\n",
    "conv8bit_20221117(ruta_20221117_7)"
   ]
  },
  {
   "cell_type": "code",
   "execution_count": 8,
   "id": "705997c8",
   "metadata": {},
   "outputs": [],
   "source": [
    "ruta_20221117_8 = '20221117/8'\n",
    "conv8bit_20221117(ruta_20221117_8)"
   ]
  },
  {
   "cell_type": "code",
   "execution_count": 9,
   "id": "2db14aae",
   "metadata": {},
   "outputs": [],
   "source": [
    "ruta_20221117_9 = '20221117/9'\n",
    "conv8bit_20221117(ruta_20221117_9)"
   ]
  },
  {
   "cell_type": "code",
   "execution_count": 16,
   "id": "db951e3f",
   "metadata": {},
   "outputs": [],
   "source": [
    "ruta_20221117_10 = '20221117/10'\n",
    "conv8bit_20221117(ruta_20221117_10)"
   ]
  },
  {
   "cell_type": "code",
   "execution_count": null,
   "id": "5105f2bc",
   "metadata": {},
   "outputs": [],
   "source": [
    "ruta_20221117_11 = '20221117/11'\n",
    "conv8bit_20221117(ruta_20221117_11)"
   ]
  },
  {
   "cell_type": "code",
   "execution_count": 7,
   "id": "6fe3860b",
   "metadata": {},
   "outputs": [],
   "source": [
    "ruta_20221124_0 = '20221124/20221124/0'\n",
    "conv8bit_20221124(ruta_20221124_0)"
   ]
  },
  {
   "cell_type": "code",
   "execution_count": 8,
   "id": "3d2c88e4",
   "metadata": {},
   "outputs": [],
   "source": [
    "ruta_20221124_1 = '20221124/20221124/1'\n",
    "conv8bit_20221124(ruta_20221124_1)"
   ]
  },
  {
   "cell_type": "code",
   "execution_count": 9,
   "id": "7d0b3209",
   "metadata": {},
   "outputs": [],
   "source": [
    "ruta_20221124_2 = '20221124/20221124/2'\n",
    "conv8bit_20221124(ruta_20221124_2)"
   ]
  },
  {
   "cell_type": "code",
   "execution_count": 10,
   "id": "d27cb02e",
   "metadata": {},
   "outputs": [],
   "source": [
    "ruta_20221124_3 = '20221124/20221124/3'\n",
    "conv8bit_20221124(ruta_20221124_3)"
   ]
  },
  {
   "cell_type": "code",
   "execution_count": 11,
   "id": "be916718",
   "metadata": {},
   "outputs": [],
   "source": [
    "ruta_20221124_4 = '20221124/20221124/4'\n",
    "conv8bit_20221124(ruta_20221124_4)"
   ]
  },
  {
   "cell_type": "code",
   "execution_count": 12,
   "id": "08112935",
   "metadata": {},
   "outputs": [],
   "source": [
    "ruta_20221124_5 = '20221124/20221124/5'\n",
    "conv8bit_20221124(ruta_20221124_5)"
   ]
  },
  {
   "cell_type": "code",
   "execution_count": 13,
   "id": "d1b1fd25",
   "metadata": {},
   "outputs": [],
   "source": [
    "ruta_20221124_6 = '20221124/20221124/6'\n",
    "conv8bit_20221124(ruta_20221124_6)"
   ]
  },
  {
   "cell_type": "code",
   "execution_count": 14,
   "id": "da9369cc",
   "metadata": {},
   "outputs": [],
   "source": [
    "ruta_20221124_7 = '20221124/20221124/7'\n",
    "conv8bit_20221124(ruta_20221124_7)"
   ]
  },
  {
   "cell_type": "code",
   "execution_count": 15,
   "id": "b900e99d",
   "metadata": {},
   "outputs": [],
   "source": [
    "ruta_20221124_8 = '20221124/20221124/8'\n",
    "conv8bit_20221124(ruta_20221124_8)"
   ]
  },
  {
   "cell_type": "code",
   "execution_count": 16,
   "id": "8935c2d6",
   "metadata": {},
   "outputs": [],
   "source": [
    "ruta_20221124_9 = '20221124/20221124/9'\n",
    "conv8bit_20221124(ruta_20221124_9)"
   ]
  },
  {
   "cell_type": "code",
   "execution_count": 17,
   "id": "aa3c6e2c",
   "metadata": {},
   "outputs": [],
   "source": [
    "ruta_20221124_10 = '20221124/20221124/10'\n",
    "conv8bit_20221124(ruta_20221124_10)"
   ]
  },
  {
   "cell_type": "code",
   "execution_count": 18,
   "id": "33f4c95c",
   "metadata": {},
   "outputs": [],
   "source": [
    "ruta_20221124_11 = '20221124/20221124/11'\n",
    "conv8bit_20221124(ruta_20221124_11)"
   ]
  },
  {
   "cell_type": "code",
   "execution_count": 19,
   "id": "ec946d6a",
   "metadata": {},
   "outputs": [],
   "source": [
    "ruta_20221124_12 = '20221124/20221124/12'\n",
    "conv8bit_20221124(ruta_20221124_12)"
   ]
  },
  {
   "cell_type": "code",
   "execution_count": 20,
   "id": "818d064c",
   "metadata": {},
   "outputs": [],
   "source": [
    "ruta_20221124_13 = '20221124/20221124/13'\n",
    "conv8bit_20221124(ruta_20221124_13)"
   ]
  },
  {
   "cell_type": "code",
   "execution_count": 21,
   "id": "b6bf3311",
   "metadata": {},
   "outputs": [],
   "source": [
    "ruta_20221124_14 = '20221124/20221124/14'\n",
    "conv8bit_20221124(ruta_20221124_14)"
   ]
  },
  {
   "cell_type": "code",
   "execution_count": 22,
   "id": "1f708bda",
   "metadata": {},
   "outputs": [],
   "source": [
    "ruta_20221124_15 = '20221124/20221124/15'\n",
    "conv8bit_20221124(ruta_20221124_15)"
   ]
  },
  {
   "cell_type": "code",
   "execution_count": 23,
   "id": "00cb80f8",
   "metadata": {},
   "outputs": [],
   "source": [
    "ruta_20221124_16 = '20221124/20221124/16'\n",
    "conv8bit_20221124(ruta_20221124_16)"
   ]
  },
  {
   "cell_type": "code",
   "execution_count": 24,
   "id": "4d83d6e1",
   "metadata": {},
   "outputs": [],
   "source": [
    "ruta_20221124_17 = '20221124/20221124/17'\n",
    "conv8bit_20221124(ruta_20221124_17)"
   ]
  },
  {
   "cell_type": "code",
   "execution_count": 25,
   "id": "be2de0f2",
   "metadata": {},
   "outputs": [],
   "source": [
    "ruta_20221124_18 = '20221124/20221124/18'\n",
    "conv8bit_20221124(ruta_20221124_18)"
   ]
  },
  {
   "cell_type": "code",
   "execution_count": 26,
   "id": "6bc62bcf",
   "metadata": {},
   "outputs": [],
   "source": [
    "ruta_20221124_19 = '20221124/20221124/19'\n",
    "conv8bit_20221124(ruta_20221124_19)"
   ]
  },
  {
   "cell_type": "code",
   "execution_count": 46,
   "id": "146ac614",
   "metadata": {},
   "outputs": [],
   "source": [
    "ruta_20221124_20 = '20221124/20221124/20'\n",
    "conv8bit_20221124(ruta_20221124_20)"
   ]
  },
  {
   "cell_type": "code",
   "execution_count": 28,
   "id": "909eae2f",
   "metadata": {},
   "outputs": [],
   "source": [
    "ruta_20221124_21 = '20221124/20221124/21'\n",
    "conv8bit_20221124(ruta_20221124_21)"
   ]
  },
  {
   "cell_type": "code",
   "execution_count": 29,
   "id": "cb46ab39",
   "metadata": {},
   "outputs": [],
   "source": [
    "ruta_20221124_22 = '20221124/20221124/22'\n",
    "conv8bit_20221124(ruta_20221124_22)"
   ]
  },
  {
   "cell_type": "code",
   "execution_count": 30,
   "id": "51c19c95",
   "metadata": {},
   "outputs": [],
   "source": [
    "ruta_20221124_23 = '20221124/20221124/23'\n",
    "conv8bit_20221124(ruta_20221124_23)"
   ]
  },
  {
   "cell_type": "code",
   "execution_count": 31,
   "id": "16d48a30",
   "metadata": {},
   "outputs": [],
   "source": [
    "ruta_20221124_24 = '20221124/20221124/24'\n",
    "conv8bit_20221124(ruta_20221124_24)"
   ]
  },
  {
   "cell_type": "code",
   "execution_count": 32,
   "id": "ae63299f",
   "metadata": {},
   "outputs": [],
   "source": [
    "ruta_20221124_25 = '20221124/20221124/25'\n",
    "conv8bit_20221124(ruta_20221124_25)"
   ]
  },
  {
   "cell_type": "code",
   "execution_count": 33,
   "id": "f5140019",
   "metadata": {},
   "outputs": [],
   "source": [
    "ruta_20221124_26 = '20221124/20221124/26'\n",
    "conv8bit_20221124(ruta_20221124_26)"
   ]
  },
  {
   "cell_type": "code",
   "execution_count": 34,
   "id": "652de1ae",
   "metadata": {},
   "outputs": [],
   "source": [
    "ruta_20221124_27 = '20221124/20221124/27'\n",
    "conv8bit_20221124(ruta_20221124_27)"
   ]
  },
  {
   "cell_type": "code",
   "execution_count": 35,
   "id": "1ef3ea22",
   "metadata": {},
   "outputs": [],
   "source": [
    "ruta_20221124_28 = '20221124/20221124/28'\n",
    "conv8bit_20221124(ruta_20221124_28)"
   ]
  },
  {
   "cell_type": "code",
   "execution_count": 36,
   "id": "dc4cf09d",
   "metadata": {},
   "outputs": [],
   "source": [
    "ruta_20221124_29 = '20221124/20221124/29'\n",
    "conv8bit_20221124(ruta_20221124_29)"
   ]
  },
  {
   "cell_type": "code",
   "execution_count": 37,
   "id": "2170e910",
   "metadata": {},
   "outputs": [],
   "source": [
    "ruta_20221124_30 = '20221124/20221124/30'\n",
    "conv8bit_20221124(ruta_20221124_30)"
   ]
  },
  {
   "cell_type": "code",
   "execution_count": 38,
   "id": "ef2662a1",
   "metadata": {},
   "outputs": [],
   "source": [
    "ruta_20221124_31 = '20221124/20221124/31'\n",
    "conv8bit_20221124(ruta_20221124_31)"
   ]
  },
  {
   "cell_type": "code",
   "execution_count": 39,
   "id": "11928716",
   "metadata": {},
   "outputs": [],
   "source": [
    "ruta_20221124_32 = '20221124/20221124/32'\n",
    "conv8bit_20221124(ruta_20221124_32)"
   ]
  },
  {
   "cell_type": "code",
   "execution_count": 40,
   "id": "2ca20f1c",
   "metadata": {},
   "outputs": [],
   "source": [
    "ruta_20221124_33 = '20221124/20221124/33'\n",
    "conv8bit_20221124(ruta_20221124_33)"
   ]
  },
  {
   "cell_type": "code",
   "execution_count": 41,
   "id": "b1721e36",
   "metadata": {},
   "outputs": [],
   "source": [
    "ruta_20221124_34 = '20221124/20221124/34'\n",
    "conv8bit_20221124(ruta_20221124_34)"
   ]
  },
  {
   "cell_type": "code",
   "execution_count": 42,
   "id": "1d6f7926",
   "metadata": {},
   "outputs": [],
   "source": [
    "ruta_20221124_35 = '20221124/20221124/35'\n",
    "conv8bit_20221124(ruta_20221124_35)"
   ]
  },
  {
   "cell_type": "code",
   "execution_count": 43,
   "id": "843d258c",
   "metadata": {},
   "outputs": [],
   "source": [
    "ruta_20221124_36 = '20221124/20221124/36'\n",
    "conv8bit_20221124(ruta_20221124_36)"
   ]
  },
  {
   "cell_type": "code",
   "execution_count": 44,
   "id": "38ff8e4c",
   "metadata": {},
   "outputs": [],
   "source": [
    "ruta_20221124_37 = '20221124/20221124/37'\n",
    "conv8bit_20221124(ruta_20221124_37)"
   ]
  },
  {
   "cell_type": "code",
   "execution_count": 45,
   "id": "70669c7d",
   "metadata": {},
   "outputs": [],
   "source": [
    "ruta_20221124_38 = '20221124/20221124/38'\n",
    "conv8bit_20221124(ruta_20221124_38)"
   ]
  }
 ],
 "metadata": {
  "kernelspec": {
   "display_name": "Python 3 (ipykernel)",
   "language": "python",
   "name": "python3"
  },
  "language_info": {
   "codemirror_mode": {
    "name": "ipython",
    "version": 3
   },
   "file_extension": ".py",
   "mimetype": "text/x-python",
   "name": "python",
   "nbconvert_exporter": "python",
   "pygments_lexer": "ipython3",
   "version": "3.9.12"
  }
 },
 "nbformat": 4,
 "nbformat_minor": 5
}
