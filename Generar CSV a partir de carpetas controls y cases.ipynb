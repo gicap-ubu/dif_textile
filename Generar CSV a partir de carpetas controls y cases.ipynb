{
 "cells": [
  {
   "cell_type": "code",
   "execution_count": 2,
   "id": "fec6c79a-8793-476d-9652-9e5c03e9bdff",
   "metadata": {},
   "outputs": [
    {
     "name": "stdout",
     "output_type": "stream",
     "text": [
      "Registros sin defecto: 19911\n",
      "Registros con defecto: 8782\n",
      "Archivo CSV generado exitosamente: output.csv\n"
     ]
    }
   ],
   "source": [
    "import os\n",
    "import csv\n",
    "import glob\n",
    "\n",
    "# Define las rutas de las carpetas\n",
    "carpeta_controls = \"controls\"\n",
    "carpeta_cases = \"cases\"\n",
    "archivo_salida = \"output.csv\"\n",
    "\n",
    "# Función para generar el CSV\n",
    "def generar_csv(carpeta_controls, carpeta_cases, archivo_salida):\n",
    "    # Nombre del dataset\n",
    "    dataset = \"BATAVIA_original\"\n",
    "    \n",
    "    # Inicializar los datos\n",
    "    datos = []\n",
    "    count_sin_defecto = 0\n",
    "    count_con_defecto = 0\n",
    "\n",
    "    # Recorrer la carpeta 'controls' y añadir filas\n",
    "    for archivo in os.listdir(carpeta_controls):\n",
    "        if archivo.endswith(\".png\"):  # Considerar solo archivos PNG\n",
    "            datos.append([dataset, archivo, 0, \"\"])\n",
    "            count_sin_defecto += 1\n",
    "\n",
    "    # Recorrer la carpeta 'cases' y añadir filas\n",
    "    for archivo in os.listdir(carpeta_cases):\n",
    "        if archivo.endswith(\".png\"):  # Considerar solo archivos PNG\n",
    "            datos.append([dataset, archivo, 1, \"\"])\n",
    "            count_con_defecto += 1\n",
    "\n",
    "    # Crear el archivo CSV\n",
    "    with open(archivo_salida, mode=\"w\", newline=\"\") as file:\n",
    "        escritor_csv = csv.writer(file)\n",
    "        # Escribir encabezados\n",
    "        escritor_csv.writerow([\"Dataset\", \"Nombre del archivo\", \"Hay defecto\", \"Caja Hay defecto\"])\n",
    "        # Escribir filas\n",
    "        escritor_csv.writerows(datos)\n",
    "\n",
    "    # Mostrar conteos\n",
    "    print(f\"Registros sin defecto: {count_sin_defecto}\")\n",
    "    print(f\"Registros con defecto: {count_con_defecto}\")\n",
    "    print(f\"Archivo CSV generado exitosamente: {archivo_salida}\")\n",
    "\n",
    "# Llamada principal\n",
    "if __name__ == \"__main__\":\n",
    "    generar_csv(carpeta_controls, carpeta_cases, archivo_salida)\n"
   ]
  },
  {
   "cell_type": "code",
   "execution_count": null,
   "id": "1af3fb42-685a-4f52-aaf6-cc07344b9b1e",
   "metadata": {},
   "outputs": [],
   "source": []
  }
 ],
 "metadata": {
  "kernelspec": {
   "display_name": "Python 3 (ipykernel)",
   "language": "python",
   "name": "python3"
  },
  "language_info": {
   "codemirror_mode": {
    "name": "ipython",
    "version": 3
   },
   "file_extension": ".py",
   "mimetype": "text/x-python",
   "name": "python",
   "nbconvert_exporter": "python",
   "pygments_lexer": "ipython3",
   "version": "3.11.5"
  }
 },
 "nbformat": 4,
 "nbformat_minor": 5
}
