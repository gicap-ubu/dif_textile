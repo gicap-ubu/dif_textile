{
 "cells": [
  {
   "cell_type": "code",
   "execution_count": 1,
   "id": "bf887ac5",
   "metadata": {
    "scrolled": true
   },
   "outputs": [],
   "source": [
    "import cv2\n",
    "from matplotlib import pyplot as plt\n",
    "from PIL import Image\n",
    "import os"
   ]
  },
  {
   "cell_type": "code",
   "execution_count": 13,
   "id": "42745814",
   "metadata": {},
   "outputs": [],
   "source": [
    "def recortar_defecto(ruta):\n",
    "    lista = os.listdir(ruta)\n",
    "    for e in lista:\n",
    "        main_image = Image.open(ruta+'/'+e)\n",
    "        small_width, small_height = 365, 365\n",
    "        overlap_x, overlap_y = 29, 35\n",
    "        fila=1\n",
    "        for j in range(0, main_image.height - small_height, small_height - overlap_y):\n",
    "            columna=1\n",
    "            for i in range(1, main_image.width - small_width, small_width - overlap_x): # sobrará 1 pixel a cada lado, lo ignoramos pues es algo minimo\n",
    "                # Define the region to extract\n",
    "                box = (i, j, i+small_width, j+small_height)\n",
    "\n",
    "                # Extract the smaller image\n",
    "                region = main_image.crop(box)\n",
    "\n",
    "                # Save the smaller image\n",
    "                region.save('0 1 2 SARGA 8 bits/2/DEFECTO REC/'+e[:-4]+'_'+f\"{fila}_{columna}.png\")\n",
    "                columna=columna+1\n",
    "            fila=fila+1"
   ]
  },
  {
   "cell_type": "code",
   "execution_count": 19,
   "id": "f1fcd8ef",
   "metadata": {},
   "outputs": [],
   "source": [
    "ruta_defecto = 'IMGS PRUEBA BATAVIA PROC/DEFECTO'\n",
    "recortar_defecto(ruta_defecto)"
   ]
  },
  {
   "cell_type": "code",
   "execution_count": 3,
   "id": "917e1232",
   "metadata": {},
   "outputs": [],
   "source": [
    "ruta_defecto_20221117_3 = '3 BATAVIA/DEFECTO'\n",
    "recortar_defecto(ruta_defecto_20221117_3)"
   ]
  },
  {
   "cell_type": "code",
   "execution_count": 10,
   "id": "fb945532",
   "metadata": {},
   "outputs": [],
   "source": [
    "ruta_defecto_20221124_0 = '0 1 2 SARGA 8 bits/0/DEFECTO'\n",
    "recortar_defecto(ruta_defecto_20221124_0)"
   ]
  },
  {
   "cell_type": "code",
   "execution_count": 12,
   "id": "bc5b6517",
   "metadata": {},
   "outputs": [],
   "source": [
    "ruta_defecto_20221124_1 = '0 1 2 SARGA 8 bits/1/DEFECTO'\n",
    "recortar_defecto(ruta_defecto_20221124_1)"
   ]
  },
  {
   "cell_type": "code",
   "execution_count": 15,
   "id": "a3d54863",
   "metadata": {},
   "outputs": [],
   "source": [
    "ruta_defecto_20221124_2 = '0 1 2 SARGA 8 bits/2/DEFECTO'\n",
    "recortar_defecto(ruta_defecto_20221124_2)"
   ]
  },
  {
   "cell_type": "code",
   "execution_count": 4,
   "id": "0c75e84b",
   "metadata": {},
   "outputs": [],
   "source": [
    "def recortar_no_defecto(ruta):\n",
    "    lista = os.listdir(ruta)\n",
    "    for e in lista:\n",
    "        main_image = Image.open(ruta+'/'+e)\n",
    "        small_width, small_height = 365, 365\n",
    "        overlap_x, overlap_y = 29, 35\n",
    "        fila=1\n",
    "        for j in range(0, main_image.height - small_height, small_height - overlap_y):\n",
    "            columna=1\n",
    "            for i in range(1, main_image.width - small_width, small_width - overlap_x): # sobrará 1 pixel a cada lado, lo ignoramos pues es algo minimo\n",
    "                # Define the region to extract\n",
    "                box = (i, j, i+small_width, j+small_height)\n",
    "\n",
    "                # Extract the smaller image\n",
    "                region = main_image.crop(box)\n",
    "\n",
    "                # Save the smaller image\n",
    "                region.save('3 BATAVIA REC/NO DEFECTO/'+e[:-4]+'_'+f\"{fila}_{columna}.png\")\n",
    "                columna=columna+1\n",
    "            fila=fila+1"
   ]
  },
  {
   "cell_type": "code",
   "execution_count": 21,
   "id": "1e9495da",
   "metadata": {},
   "outputs": [],
   "source": [
    "ruta_no_defecto = 'IMGS PRUEBA BATAVIA PROC/NO DEFECTO'\n",
    "recortar_no_defecto(ruta_no_defecto)"
   ]
  },
  {
   "cell_type": "code",
   "execution_count": null,
   "id": "b4e30819",
   "metadata": {},
   "outputs": [],
   "source": [
    "ruta_no_defecto_20221117_3 = '3 BATAVIA/NO DEFECTO'\n",
    "recortar_no_defecto(ruta_no_defecto_20221117_3)"
   ]
  },
  {
   "cell_type": "code",
   "execution_count": null,
   "id": "095751ca",
   "metadata": {},
   "outputs": [],
   "source": []
  }
 ],
 "metadata": {
  "kernelspec": {
   "display_name": "Python 3 (ipykernel)",
   "language": "python",
   "name": "python3"
  },
  "language_info": {
   "codemirror_mode": {
    "name": "ipython",
    "version": 3
   },
   "file_extension": ".py",
   "mimetype": "text/x-python",
   "name": "python",
   "nbconvert_exporter": "python",
   "pygments_lexer": "ipython3",
   "version": "3.9.12"
  }
 },
 "nbformat": 4,
 "nbformat_minor": 5
}
