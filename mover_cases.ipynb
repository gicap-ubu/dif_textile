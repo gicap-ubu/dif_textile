{
 "cells": [
  {
   "cell_type": "code",
   "execution_count": null,
   "id": "ab930823-5629-4743-8c1c-1c22e392f064",
   "metadata": {},
   "outputs": [],
   "source": [
    "import os\n",
    "import pandas as pd\n",
    "import shutil\n",
    "\n",
    "def mover_ficheros(csv_file, search_folder):\n",
    "    # Leer el fichero CSV con delimitador ;\n",
    "    df = pd.read_csv(csv_file, delimiter=';')\n",
    "\n",
    "    # Crear la subcarpeta 'cases' si no existe\n",
    "    subcarpeta = os.path.join(search_folder, 'cases')\n",
    "    if not os.path.exists(subcarpeta):\n",
    "        os.makedirs(subcarpeta)\n",
    "\n",
    "    # Recorrer los valores de la columna 'imagen'\n",
    "    for patch_name in df['patch_name']:\n",
    "        # Crear la ruta completa del fichero\n",
    "        file_path = os.path.join(search_folder, patch_name)\n",
    "        # Verificar si el fichero existe en el directorio especificado\n",
    "        if os.path.exists(file_path):\n",
    "            # Mover el fichero a la subcarpeta 'cases'\n",
    "            shutil.move(file_path, os.path.join(subcarpeta, patch_name))\n",
    "        else:\n",
    "            print(f\"El fichero {file_path} no existe.\")\n",
    "\n",
    "    print(\"Proceso completado.\")\n",
    "\n",
    "# Especificar el nombre del fichero CSV y la carpeta de búsqueda\n",
    "csv_file = r'batavia.csv'  # Usando cadena cruda\n",
    "search_folder = 'batavia'\n",
    "\n",
    "# Llamar a la función con los parámetros especificados\n",
    "mover_ficheros(csv_file, search_folder)"
   ]
  }
 ],
 "metadata": {
  "kernelspec": {
   "display_name": "Python 3 (ipykernel)",
   "language": "python",
   "name": "python3"
  },
  "language_info": {
   "codemirror_mode": {
    "name": "ipython",
    "version": 3
   },
   "file_extension": ".py",
   "mimetype": "text/x-python",
   "name": "python",
   "nbconvert_exporter": "python",
   "pygments_lexer": "ipython3",
   "version": "3.11.5"
  }
 },
 "nbformat": 4,
 "nbformat_minor": 5
}
