{
 "cells": [
  {
   "cell_type": "code",
   "execution_count": 12,
   "id": "6b96e3c7",
   "metadata": {},
   "outputs": [],
   "source": [
    "import pandas as pd\n",
    "import os\n",
    "import numpy as np\n",
    "from skimage import io\n",
    "from PIL import Image\n",
    "from matplotlib import pyplot as plt\n",
    "import imageio"
   ]
  },
  {
   "cell_type": "code",
   "execution_count": 10,
   "id": "c7271a3e",
   "metadata": {},
   "outputs": [],
   "source": [
    "url_20221124_0 = '20221124 SARGA 8 bits/0'\n",
    "url_20221124_1 = '20221124 SARGA 8 bits/1'\n",
    "url_20221124_2 = '20221124 SARGA 8 bits/2'"
   ]
  },
  {
   "cell_type": "code",
   "execution_count": 11,
   "id": "8d8099ab",
   "metadata": {},
   "outputs": [],
   "source": [
    "imgs_20221124_0 = os.listdir(url_20221124_0)\n",
    "imgs_20221124_1 = os.listdir(url_20221124_1)\n",
    "imgs_20221124_2 = os.listdir(url_20221124_2)"
   ]
  },
  {
   "cell_type": "code",
   "execution_count": 5,
   "id": "387b4154",
   "metadata": {},
   "outputs": [],
   "source": [
    "for e in imgs_20221124_0:\n",
    "    os.rename('20221124 SARGA 8 bits/0/'+e,'20221124 SARGA 8 bits/0/'+e[:-4]+'_20221117_0.png')\n",
    "    \n",
    "for e in imgs_20221124_1:\n",
    "    os.rename('20221124 SARGA 8 bits/1/'+e,'20221124 SARGA 8 bits/1/'+e[:-4]+'_20221117_0.png')\n",
    "\n",
    "for e in imgs_20221124_2:\n",
    "    os.rename('20221124 SARGA 8 bits/2/'+e,'20221124 SARGA 8 bits/2/'+e[:-4]+'_20221117_0.png')"
   ]
  },
  {
   "cell_type": "code",
   "execution_count": 19,
   "id": "2a04c649",
   "metadata": {},
   "outputs": [
    {
     "data": {
      "text/plain": [
       "\"  \\nfor e in imgs_20221124_1:\\n    os.rename('20221124 SARGA 8 bits/1/'+e,'20221124 SARGA 8 bits/1/'+e[:-4]+'_20221117_0.png')\\n\\nfor e in imgs_20221124_2:\\n    os.rename('20221124 SARGA 8 bits/2/'+e,'20221124 SARGA 8 bits/2/'+e[:-4]+'_20221117_0.png')\\n\""
      ]
     },
     "execution_count": 19,
     "metadata": {},
     "output_type": "execute_result"
    }
   ],
   "source": [
    "for e in imgs_20221124_0:\n",
    "    os.rename('20221124 SARGA 8 bits/0/'+e,'20221124 SARGA 8 bits/0/'+e[:-15]+'.png')"
   ]
  },
  {
   "cell_type": "code",
   "execution_count": 23,
   "id": "1530e998",
   "metadata": {
    "scrolled": true
   },
   "outputs": [
    {
     "name": "stdout",
     "output_type": "stream",
     "text": [
      "0_0_9304_8bi\n"
     ]
    }
   ],
   "source": [
    "print(imgs_20221124_2[0][:-15])"
   ]
  },
  {
   "cell_type": "code",
   "execution_count": null,
   "id": "92de17c3",
   "metadata": {},
   "outputs": [],
   "source": [
    "for e in imgs_20221124_1:\n",
    "    os.rename('20221124 SARGA 8 bits/1/'+e,'20221124 SARGA 8 bits/1/'+e[:-15]+'_20221117_0.png')\n",
    "\n",
    "for e in imgs_20221124_2:\n",
    "    os.rename('20221124 SARGA 8 bits/2/'+e,'20221124 SARGA 8 bits/2/'+e[:-15]+'_20221117_0.png')"
   ]
  }
 ],
 "metadata": {
  "kernelspec": {
   "display_name": "Python 3 (ipykernel)",
   "language": "python",
   "name": "python3"
  },
  "language_info": {
   "codemirror_mode": {
    "name": "ipython",
    "version": 3
   },
   "file_extension": ".py",
   "mimetype": "text/x-python",
   "name": "python",
   "nbconvert_exporter": "python",
   "pygments_lexer": "ipython3",
   "version": "3.9.12"
  }
 },
 "nbformat": 4,
 "nbformat_minor": 5
}
